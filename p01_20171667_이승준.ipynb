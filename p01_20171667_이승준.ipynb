{
  "nbformat": 4,
  "nbformat_minor": 0,
  "metadata": {
    "colab": {
      "name": "p01_20171667_이승준.ipynb",
      "provenance": [],
      "collapsed_sections": []
    },
    "kernelspec": {
      "name": "python3",
      "display_name": "Python 3"
    }
  },
  "cells": [
    {
      "cell_type": "code",
      "metadata": {
        "id": "cOooGj7MXUia"
      },
      "source": [
        "import numpy as np\n",
        "import torch\n",
        "import pandas as pd\n",
        "import torch.nn.functional as F\n",
        "import matplotlib.pyplot as plt"
      ],
      "execution_count": null,
      "outputs": []
    },
    {
      "cell_type": "markdown",
      "metadata": {
        "id": "1eY4NvTKPwqL"
      },
      "source": [
        "#Task 1\n",
        "csv파일 불러오기 //\n",
        " 키, 몸무게 데이터 골라내기"
      ]
    },
    {
      "cell_type": "code",
      "metadata": {
        "id": "MadofTnjaMO8"
      },
      "source": [
        "data = pd.read_csv(\"./p01_input.csv\", encoding='cp949')\n",
        "data = data[['키','몸무게']]\n",
        "data = data.rename(columns = {'키' : 'height', '몸무게' : 'weight'})\n",
        "data =data.dropna()"
      ],
      "execution_count": null,
      "outputs": []
    },
    {
      "cell_type": "code",
      "metadata": {
        "id": "ABRFXfyo3BeS",
        "colab": {
          "base_uri": "https://localhost:8080/",
          "height": 419
        },
        "outputId": "c5ddec8a-f973-4983-cc42-dabaa1987c83"
      },
      "source": [
        "data "
      ],
      "execution_count": null,
      "outputs": [
        {
          "output_type": "execute_result",
          "data": {
            "text/html": [
              "<div>\n",
              "<style scoped>\n",
              "    .dataframe tbody tr th:only-of-type {\n",
              "        vertical-align: middle;\n",
              "    }\n",
              "\n",
              "    .dataframe tbody tr th {\n",
              "        vertical-align: top;\n",
              "    }\n",
              "\n",
              "    .dataframe thead th {\n",
              "        text-align: right;\n",
              "    }\n",
              "</style>\n",
              "<table border=\"1\" class=\"dataframe\">\n",
              "  <thead>\n",
              "    <tr style=\"text-align: right;\">\n",
              "      <th></th>\n",
              "      <th>height</th>\n",
              "      <th>weight</th>\n",
              "    </tr>\n",
              "  </thead>\n",
              "  <tbody>\n",
              "    <tr>\n",
              "      <th>0</th>\n",
              "      <td>125.8</td>\n",
              "      <td>27.3</td>\n",
              "    </tr>\n",
              "    <tr>\n",
              "      <th>1</th>\n",
              "      <td>124.3</td>\n",
              "      <td>25.4</td>\n",
              "    </tr>\n",
              "    <tr>\n",
              "      <th>2</th>\n",
              "      <td>119.2</td>\n",
              "      <td>23.5</td>\n",
              "    </tr>\n",
              "    <tr>\n",
              "      <th>3</th>\n",
              "      <td>115.0</td>\n",
              "      <td>20.0</td>\n",
              "    </tr>\n",
              "    <tr>\n",
              "      <th>4</th>\n",
              "      <td>120.0</td>\n",
              "      <td>33.5</td>\n",
              "    </tr>\n",
              "    <tr>\n",
              "      <th>...</th>\n",
              "      <td>...</td>\n",
              "      <td>...</td>\n",
              "    </tr>\n",
              "    <tr>\n",
              "      <th>9681</th>\n",
              "      <td>176.1</td>\n",
              "      <td>50.4</td>\n",
              "    </tr>\n",
              "    <tr>\n",
              "      <th>9682</th>\n",
              "      <td>174.1</td>\n",
              "      <td>88.8</td>\n",
              "    </tr>\n",
              "    <tr>\n",
              "      <th>9683</th>\n",
              "      <td>169.5</td>\n",
              "      <td>63.2</td>\n",
              "    </tr>\n",
              "    <tr>\n",
              "      <th>9684</th>\n",
              "      <td>159.2</td>\n",
              "      <td>52.9</td>\n",
              "    </tr>\n",
              "    <tr>\n",
              "      <th>9685</th>\n",
              "      <td>162.0</td>\n",
              "      <td>67.7</td>\n",
              "    </tr>\n",
              "  </tbody>\n",
              "</table>\n",
              "<p>9682 rows × 2 columns</p>\n",
              "</div>"
            ],
            "text/plain": [
              "      height  weight\n",
              "0      125.8    27.3\n",
              "1      124.3    25.4\n",
              "2      119.2    23.5\n",
              "3      115.0    20.0\n",
              "4      120.0    33.5\n",
              "...      ...     ...\n",
              "9681   176.1    50.4\n",
              "9682   174.1    88.8\n",
              "9683   169.5    63.2\n",
              "9684   159.2    52.9\n",
              "9685   162.0    67.7\n",
              "\n",
              "[9682 rows x 2 columns]"
            ]
          },
          "metadata": {
            "tags": []
          },
          "execution_count": 71
        }
      ]
    },
    {
      "cell_type": "markdown",
      "metadata": {
        "id": "_c6_xGknPzzr"
      },
      "source": [
        "#Task2\n",
        "키, 몸무게 평균 구하기"
      ]
    },
    {
      "cell_type": "code",
      "metadata": {
        "id": "UeR8-Jy8KkDi",
        "colab": {
          "base_uri": "https://localhost:8080/"
        },
        "outputId": "eff58406-fccc-4d4e-adf3-efd55ea37d39"
      },
      "source": [
        "mean_height = data['weight'].mean()\n",
        "mean_weight = data['height'].mean()\n",
        "print('키 평균 : ', mean_height)\n",
        "print('몸무게 평균 ; ', mean_weight)"
      ],
      "execution_count": null,
      "outputs": [
        {
          "output_type": "stream",
          "text": [
            "키 평균 :  50.20759140673406\n",
            "몸무게 평균 ;  154.56483164635458\n"
          ],
          "name": "stdout"
        }
      ]
    },
    {
      "cell_type": "markdown",
      "metadata": {
        "id": "yK1GdRGbP3MO"
      },
      "source": [
        "#Task3\n",
        "키, 몸무게 간의 Pearson Correlation Coefficient 구하기"
      ]
    },
    {
      "cell_type": "code",
      "metadata": {
        "id": "KZqcPu6-VyAt"
      },
      "source": [
        "def pearson_similarity(u1, u2):\n",
        "    u1_c = u1 - u1.mean()\n",
        "    u2_c = u2 - u2.mean()\n",
        "    denom = np.sqrt(np.sum(u1_c**2) * np.sum(u2_c**2))\n",
        "    if denom != 0:\n",
        "      return np.sum(u1_c * u2_c) / denom\n",
        "    else:\n",
        "      return 0"
      ],
      "execution_count": null,
      "outputs": []
    },
    {
      "cell_type": "code",
      "metadata": {
        "id": "n19HQbgyWcF1",
        "colab": {
          "base_uri": "https://localhost:8080/"
        },
        "outputId": "915ff6ee-a22c-4a17-f1b7-9f8ad15c7762"
      },
      "source": [
        "h_w_pearson = pearson_similarity(data['height'], data['weight'])\n",
        "print('키 와 몸무게의 상관관계 :' , h_w_pearson)"
      ],
      "execution_count": null,
      "outputs": [
        {
          "output_type": "stream",
          "text": [
            "키 와 몸무게의 상관관계 : 0.8490058387689018\n"
          ],
          "name": "stdout"
        }
      ]
    },
    {
      "cell_type": "markdown",
      "metadata": {
        "id": "_YKmLAscP9D_"
      },
      "source": [
        "#Task4\n",
        "Linear Regression을 사용한 선형관계찾기 // 경사하강법을 이용한 최적화"
      ]
    },
    {
      "cell_type": "code",
      "metadata": {
        "id": "Ueak7rWTYKYn"
      },
      "source": [
        "height = torch.FloatTensor(data['height'])\n",
        "weight = torch.FloatTensor(data['weight'])\n",
        "weight = weight.unsqueeze(1)\n",
        "height = height.unsqueeze(1)"
      ],
      "execution_count": null,
      "outputs": []
    },
    {
      "cell_type": "code",
      "metadata": {
        "id": "Ej4xw6p1q5U9",
        "colab": {
          "base_uri": "https://localhost:8080/"
        },
        "outputId": "c28e8873-02b3-4de8-f8a9-31fb730828c2"
      },
      "source": [
        "W = torch.zeros(1,1)\n",
        "b = torch.zeros(1,1)\n",
        "lr = 0.00001\n",
        "lr2 = 0.7\n",
        "\n",
        "x_train = height\n",
        "y_train = weight\n",
        "\n",
        "for epoch in range(10001):\n",
        "    W.requires_grad_(True)\n",
        "    b.requires_grad_(True)\n",
        "\n",
        "    hypothesis = torch.mm(x_train, W)+ b\n",
        "    cost = torch.mean((hypothesis - y_train)**2)\n",
        "\n",
        "    cost.backward()\n",
        "    \n",
        "    with torch.no_grad():\n",
        "      W = W -lr * W.grad\n",
        "      b = b -lr2 *b.grad\n",
        "\n",
        "    if epoch %1000  == 0:\n",
        "      print(f\"epoch: {epoch}, cost: {cost.item():.6f}, W: {W.item():.6f}, b: {b.item():.6f}\")\n",
        "      \n",
        "\n"
      ],
      "execution_count": null,
      "outputs": [
        {
          "output_type": "stream",
          "text": [
            "epoch: 0, cost: 2812.360352, W: 0.160127, b: 70.290619\n",
            "epoch: 1000, cost: 81.431328, W: 0.843822, b: -80.212608\n",
            "epoch: 2000, cost: 81.399826, W: 0.854092, b: -81.804878\n",
            "epoch: 3000, cost: 81.399818, W: 0.854227, b: -81.825935\n",
            "epoch: 4000, cost: 81.399818, W: 0.854227, b: -81.825935\n",
            "epoch: 5000, cost: 81.399818, W: 0.854227, b: -81.825935\n",
            "epoch: 6000, cost: 81.399818, W: 0.854227, b: -81.825935\n",
            "epoch: 7000, cost: 81.399818, W: 0.854227, b: -81.825935\n",
            "epoch: 8000, cost: 81.399818, W: 0.854227, b: -81.825935\n",
            "epoch: 9000, cost: 81.399818, W: 0.854227, b: -81.825935\n",
            "epoch: 10000, cost: 81.399818, W: 0.854227, b: -81.825935\n"
          ],
          "name": "stdout"
        }
      ]
    },
    {
      "cell_type": "code",
      "metadata": {
        "id": "nR5d3Xko8S_K",
        "colab": {
          "base_uri": "https://localhost:8080/"
        },
        "outputId": "2801b9af-f1ac-4e2f-8007-cc51b3b3e970"
      },
      "source": [
        "print(f\"W: {W.item():.6f}, b: {b.item():.6f}\")"
      ],
      "execution_count": null,
      "outputs": [
        {
          "output_type": "stream",
          "text": [
            "W: 0.854227, b: -81.825935\n"
          ],
          "name": "stdout"
        }
      ]
    },
    {
      "cell_type": "markdown",
      "metadata": {
        "id": "Hv8_Tr2ZQEAQ"
      },
      "source": [
        "#Task5\n",
        "matplotlib를 사용한 키, 몸무게, 선형관계 표현"
      ]
    },
    {
      "cell_type": "code",
      "metadata": {
        "id": "tvKXwKYK84KX",
        "colab": {
          "base_uri": "https://localhost:8080/",
          "height": 279
        },
        "outputId": "b95a5be6-972e-47d0-d9ba-24bb2fe9d273"
      },
      "source": [
        "import matplotlib.pyplot as plt\n",
        "W.requires_grad_(False)\n",
        "b.requires_grad_(False)\n",
        "X = torch.linspace(105,200,100).unsqueeze(1)\n",
        "Y = torch.torch.mm(X,W)+b\n",
        "plt.xlabel(\"height\")\n",
        "plt.ylabel(\"weight\")\n",
        "plt.plot(X,Y, c='r', label = \"Traing data\")\n",
        "plt.scatter(height, weight,c='g', label=\"Input data\")\n",
        "plt.legend()\n",
        "plt.show()"
      ],
      "execution_count": null,
      "outputs": [
        {
          "output_type": "display_data",
          "data": {
            "image/png": "[encoded data removed]",
            "text/plain": [
              "<Figure size 432x288 with 1 Axes>"
            ]
          },
          "metadata": {
            "tags": [],
            "needs_background": "light"
          }
        }
      ]
    },
    {
      "cell_type": "code",
      "metadata": {
        "id": "A_bDmdO8_qL5",
        "colab": {
          "base_uri": "https://localhost:8080/"
        },
        "outputId": "3fb364fd-8624-4144-e78e-15614d7c87d6"
      },
      "source": [
        "#test\n",
        "x_test = torch.FloatTensor([[120.]])\n",
        "print( torch.mm(x_test, W) + b)\n",
        "x_test = torch.FloatTensor([[180.]])\n",
        "print( torch.mm(x_test, W) + b)"
      ],
      "execution_count": null,
      "outputs": [
        {
          "output_type": "stream",
          "text": [
            "tensor([[20.6814]])\n",
            "tensor([[71.9350]])\n"
          ],
          "name": "stdout"
        }
      ]
    },
    {
      "cell_type": "code",
      "metadata": {
        "id": "WWlTSne0W1IK"
      },
      "source": [
        ""
      ],
      "execution_count": null,
      "outputs": []
    }
  ]
}