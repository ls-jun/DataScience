{
  "nbformat": 4,
  "nbformat_minor": 0,
  "metadata": {
    "colab": {
      "name": "hw02_20171667.ipynb",
      "provenance": [],
      "collapsed_sections": [],
      "authorship_tag": "ABX9TyOhlSZ0vM/tMakxt5er7GIT"
    },
    "kernelspec": {
      "name": "python3",
      "display_name": "Python 3"
    }
  },
  "cells": [
    {
      "cell_type": "markdown",
      "metadata": {
        "id": "0df6gEthrqFC"
      },
      "source": [
        ""
      ]
    },
    {
      "cell_type": "code",
      "metadata": {
        "id": "vUAiogIDf-W9"
      },
      "source": [
        "import torch\n",
        "x_train = torch.FloatTensor([[1],[2],[3],[4],[5],[2.5],[3.5],[0],[3.1],[2.7],[2.8],[2.9]])\n",
        "y_train = torch.FloatTensor([[1],[1],[1],[0],[0],[0],[0],[1],[0],[1],[1],[1]])\n"
      ],
      "execution_count": 2,
      "outputs": []
    },
    {
      "cell_type": "code",
      "metadata": {
        "id": "UUVCvZHvzMRr",
        "colab": {
          "base_uri": "https://localhost:8080/",
          "height": 265
        },
        "outputId": "af692ffa-4b4a-4197-bcb3-054ebb69b444"
      },
      "source": [
        "import matplotlib.pyplot as plt\n",
        "plt.scatter(x_train, y_train)\n",
        "plt.show()"
      ],
      "execution_count": 3,
      "outputs": [
        {
          "output_type": "display_data",
          "data": {
            "image/png": "[encoded data removed]",
            "text/plain": [
              "<Figure size 432x288 with 1 Axes>"
            ]
          },
          "metadata": {
            "needs_background": "light"
          }
        }
      ]
    },
    {
      "cell_type": "code",
      "metadata": {
        "id": "t-L8hJ2Pj8N8",
        "colab": {
          "base_uri": "https://localhost:8080/"
        },
        "outputId": "00e57801-913f-49c0-a8d6-993eeab0e5eb"
      },
      "source": [
        "W = torch.zeros(1,1)\n",
        "b = torch.zeros(1,1)\n",
        "lr = 1.0\n",
        "\n",
        "for epoch in range(3001):\n",
        "  #W, b의 requires_grad를 True로 설정해서 backward가 가능하도록 설정\n",
        "  W.requires_grad_(True)\n",
        "  b.requires_grad_(True)\n",
        "  \n",
        "  #cost 설정\n",
        "  hypothesis = torch.sigmoid(torch.mm(x_train, W) + b)\n",
        "  cost = torch.mean(\n",
        "    -y_train * torch.log(hypothesis)\n",
        "    -(1 - y_train) * torch.log(1 - hypothesis)\n",
        "  )\n",
        "\n",
        "  #경사계산, W, b 업데이트\n",
        "  cost.backward()\n",
        "  with torch.no_grad() as grd:\n",
        "    W = W - lr * W.grad\n",
        "    b = b - lr * b.grad\n",
        "  \n",
        "  #epoch에 따른 cost W b 확인\n",
        "  if epoch % 300 == 0:\n",
        "      print( 'epoch: {}, cost: {:.6f}, W: {:.6f}, b: {:.6f}' .format(\n",
        "                  epoch, cost.item(), W.squeeze(), b.squeeze()))"
      ],
      "execution_count": 4,
      "outputs": [
        {
          "output_type": "stream",
          "name": "stdout",
          "text": [
            "epoch: 0, cost: 0.693147, W: -0.154167, b: 0.083333\n",
            "epoch: 300, cost: 0.390820, W: -2.174322, b: 6.609554\n",
            "epoch: 600, cost: 0.383699, W: -2.620780, b: 7.953166\n",
            "epoch: 900, cost: 0.382149, W: -2.832521, b: 8.587363\n",
            "epoch: 1200, cost: 0.381706, W: -2.946402, b: 8.927781\n",
            "epoch: 1500, cost: 0.381565, W: -3.010969, b: 9.120601\n",
            "epoch: 1800, cost: 0.381517, W: -3.048561, b: 9.232802\n",
            "epoch: 2100, cost: 0.381500, W: -3.070766, b: 9.299055\n",
            "epoch: 2400, cost: 0.381494, W: -3.083992, b: 9.338511\n",
            "epoch: 2700, cost: 0.381492, W: -3.091908, b: 9.362126\n",
            "epoch: 3000, cost: 0.381491, W: -3.096662, b: 9.376306\n"
          ]
        }
      ]
    },
    {
      "cell_type": "code",
      "metadata": {
        "id": "OW8u3ZrbkJIT",
        "colab": {
          "base_uri": "https://localhost:8080/"
        },
        "outputId": "3559faab-dcd2-41f3-e2c8-acadb9ffba31"
      },
      "source": [
        "#4.5에대한 0 or 1\n",
        "x_test = torch.FloatTensor([[4.5]])\n",
        "test_result = torch.sigmoid(torch.mm(x_test, W) + b)\n",
        "print(torch.round(test_result))"
      ],
      "execution_count": 5,
      "outputs": [
        {
          "output_type": "stream",
          "name": "stdout",
          "text": [
            "tensor([[0.]])\n"
          ]
        }
      ]
    },
    {
      "cell_type": "code",
      "metadata": {
        "id": "rdjLUgFhkOnz",
        "colab": {
          "base_uri": "https://localhost:8080/"
        },
        "outputId": "c144aa64-3ccb-4d42-e442-6216a3e95456"
      },
      "source": [
        "#optim.SGD를 활용한 예시\n",
        "W = torch.zeros(1,1)\n",
        "b = torch.zeros(1,1)\n",
        "lr = 1.0\n",
        "optimizer = torch.optim.SGD([W,b], lr = 1.0)\n",
        "for epoch in range(3001):\n",
        "  W.requires_grad_(True)\n",
        "  b.requires_grad_(True)\n",
        "  hypothesis = torch.sigmoid(torch.mm(x_train, W) + b)\n",
        "  cost = torch.mean(\n",
        "    -y_train * torch.log(hypothesis)\n",
        "    -(1 - y_train) * torch.log(1 - hypothesis)\n",
        "  )\n",
        "\n",
        "  optimizer.zero_grad()\n",
        "  cost.backward()\n",
        "  optimizer.step()\n",
        "  if epoch % 300 == 0:\n",
        "      print( 'epoch: {}, cost: {:.6f}, W: {:.6f}, b: {:.6f}' .format(\n",
        "                  epoch, cost.mean(), W.squeeze(), b.squeeze()))"
      ],
      "execution_count": 6,
      "outputs": [
        {
          "output_type": "stream",
          "name": "stdout",
          "text": [
            "epoch: 0, cost: 0.693147, W: -0.154167, b: 0.083333\n",
            "epoch: 300, cost: 0.390820, W: -2.174322, b: 6.609554\n",
            "epoch: 600, cost: 0.383699, W: -2.620780, b: 7.953166\n",
            "epoch: 900, cost: 0.382149, W: -2.832521, b: 8.587363\n",
            "epoch: 1200, cost: 0.381706, W: -2.946402, b: 8.927781\n",
            "epoch: 1500, cost: 0.381565, W: -3.010969, b: 9.120601\n",
            "epoch: 1800, cost: 0.381517, W: -3.048561, b: 9.232802\n",
            "epoch: 2100, cost: 0.381500, W: -3.070766, b: 9.299055\n",
            "epoch: 2400, cost: 0.381494, W: -3.083992, b: 9.338511\n",
            "epoch: 2700, cost: 0.381492, W: -3.091908, b: 9.362126\n",
            "epoch: 3000, cost: 0.381491, W: -3.096662, b: 9.376306\n"
          ]
        }
      ]
    },
    {
      "cell_type": "code",
      "metadata": {
        "id": "bw_nPdZUKAnP",
        "colab": {
          "base_uri": "https://localhost:8080/"
        },
        "outputId": "604ad07c-9230-435c-b988-62900622ca45"
      },
      "source": [
        "#optim.Adam을 활용한 예시\n",
        "W = torch.zeros(1,1)\n",
        "b = torch.zeros(1,1)\n",
        "lr = 1.0\n",
        "optimizer = torch.optim.Adam([W,b], lr=1.0)\n",
        "for epoch in range(3001):\n",
        "  W.requires_grad_(True)\n",
        "  b.requires_grad_(True)\n",
        "  hypothesis = torch.sigmoid(torch.mm(x_train, W) + b)\n",
        "  cost = torch.mean(\n",
        "    -y_train * torch.log(hypothesis)\n",
        "    -(1 - y_train) * torch.log(1 - hypothesis)\n",
        "  )\n",
        "\n",
        "  optimizer.zero_grad()\n",
        "  cost.backward()\n",
        "  optimizer.step()\n",
        "  if epoch % 300 == 0:\n",
        "      print( 'epoch: {}, cost: {:.6f}, W: {:.6f}, b: {:.6f}' .format(\n",
        "                  epoch, cost.item(), W.squeeze(), b.squeeze()))"
      ],
      "execution_count": 7,
      "outputs": [
        {
          "output_type": "stream",
          "name": "stdout",
          "text": [
            "epoch: 0, cost: 0.693147, W: -1.000000, b: 1.000000\n",
            "epoch: 300, cost: 0.381491, W: -3.103857, b: 9.397766\n",
            "epoch: 600, cost: 0.381491, W: -3.103853, b: 9.397752\n",
            "epoch: 900, cost: 0.381491, W: -3.103853, b: 9.397753\n",
            "epoch: 1200, cost: 0.381491, W: -3.103851, b: 9.397753\n",
            "epoch: 1500, cost: 0.381491, W: -3.103793, b: 9.397831\n",
            "epoch: 1800, cost: 0.382265, W: -3.113703, b: 9.500632\n",
            "epoch: 2100, cost: 0.381569, W: -3.092919, b: 9.408957\n",
            "epoch: 2400, cost: 0.381532, W: -3.111349, b: 9.390011\n",
            "epoch: 2700, cost: 0.381623, W: -3.091640, b: 9.407511\n",
            "epoch: 3000, cost: 0.381521, W: -3.115572, b: 9.492721\n"
          ]
        }
      ]
    },
    {
      "cell_type": "code",
      "metadata": {
        "id": "GsitAFSiFUz7",
        "colab": {
          "base_uri": "https://localhost:8080/"
        },
        "outputId": "2e8e2f4b-00ca-4fe6-c9d0-81b40d027372"
      },
      "source": [
        "#optim.Adadelta를 활용한 예시\n",
        "W = torch.zeros(1,1)\n",
        "b = torch.zeros(1,1)\n",
        "lr = 1.0\n",
        "optimizer = torch.optim.Adadelta([W,b])\n",
        "for epoch in range(3001):\n",
        "  W.requires_grad_(True)\n",
        "  b.requires_grad_(True)\n",
        "  hypothesis = torch.sigmoid(torch.mm(x_train, W) + b)\n",
        "  cost = torch.mean(\n",
        "    -y_train * torch.log(hypothesis)\n",
        "    -(1 - y_train) * torch.log(1 - hypothesis)\n",
        "  )\n",
        "\n",
        "  optimizer.zero_grad()\n",
        "  cost.backward()\n",
        "  optimizer.step()\n",
        "  if epoch % 300 == 0:\n",
        "      print( 'epoch: {}, cost: {:.6f}, W: {:.6f}, b: {:.6f}' .format(\n",
        "                  epoch, cost.item(), W.squeeze(), b.squeeze()))"
      ],
      "execution_count": 8,
      "outputs": [
        {
          "output_type": "stream",
          "name": "stdout",
          "text": [
            "epoch: 0, cost: 0.693147, W: -0.003162, b: 0.003160\n",
            "epoch: 300, cost: 0.537192, W: -0.537830, b: 1.522116\n",
            "epoch: 600, cost: 0.458038, W: -1.015019, b: 3.038626\n",
            "epoch: 900, cost: 0.417649, W: -1.490835, b: 4.520366\n",
            "epoch: 1200, cost: 0.396584, W: -1.962221, b: 5.964029\n",
            "epoch: 1500, cost: 0.386648, W: -2.389365, b: 7.257202\n",
            "epoch: 1800, cost: 0.382993, W: -2.701013, b: 8.193676\n",
            "epoch: 2100, cost: 0.381953, W: -2.875364, b: 8.715486\n",
            "epoch: 2400, cost: 0.381644, W: -2.970553, b: 8.999921\n",
            "epoch: 2700, cost: 0.381544, W: -3.024969, b: 9.162389\n",
            "epoch: 3000, cost: 0.381510, W: -3.056807, b: 9.257408\n"
          ]
        }
      ]
    },
    {
      "cell_type": "code",
      "metadata": {
        "id": "S-FYZ6BNl0HH"
      },
      "source": [
        "# 여러가지 optimizer\n",
        "optimizer = torch.optim.SGD([W,b], lr=1.0)\n",
        "optimizer = torch.optim.Adam([W,b], lr=1.0)\n",
        "optimizer = torch.optim.Adadelta([W,b])\n",
        "optimizer = torch.optim.Adagrad([W,b])\n",
        "optimizer = torch.optim.RMSprop([W,b])"
      ],
      "execution_count": 9,
      "outputs": []
    },
    {
      "cell_type": "code",
      "metadata": {
        "id": "1TI9ShcPFKmV"
      },
      "source": [
        "#matplot을 활용한 시각화"
      ],
      "execution_count": 17,
      "outputs": []
    },
    {
      "cell_type": "code",
      "metadata": {
        "id": "vY05WCk23n-j",
        "colab": {
          "base_uri": "https://localhost:8080/",
          "height": 279
        },
        "outputId": "c255e2a9-c472-4306-bc8e-7010dad20ae7"
      },
      "source": [
        "import matplotlib.pyplot as plt\n",
        "W.requires_grad_(False)\n",
        "b.requires_grad_(False)\n",
        "\n",
        "plt.scatter(x_train, y_train, c='black')\n",
        "\n",
        "X = torch.linspace(0,5,100).unsqueeze(1)\n",
        "Y = torch.sigmoid(torch.mm(X,W)+b)\n",
        "plt.ylabel(\"Probablility of 1 (Y)\")\n",
        "plt.xlabel(\"Input   (X)\")\n",
        "plt.plot(X, Y, label = 'Fitting line')\n",
        "plt.show()"
      ],
      "execution_count": 16,
      "outputs": [
        {
          "output_type": "display_data",
          "data": {
            "image/png": "[encoded data removed]",
            "text/plain": [
              "<Figure size 432x288 with 1 Axes>"
            ]
          },
          "metadata": {
            "needs_background": "light"
          }
        }
      ]
    },
    {
      "cell_type": "code",
      "metadata": {
        "id": "HPER5CdLw56g"
      },
      "source": [
        ""
      ],
      "execution_count": null,
      "outputs": []
    }
  ]
}