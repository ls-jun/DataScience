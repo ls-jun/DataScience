{
  "nbformat": 4,
  "nbformat_minor": 0,
  "metadata": {
    "colab": {
      "name": "h05_이승준_20171667.ipynb",
      "provenance": []
    },
    "kernelspec": {
      "name": "python3",
      "display_name": "Python 3"
    }
  },
  "cells": [
    {
      "cell_type": "code",
      "metadata": {
        "id": "4V7Y-Q9E_sH5",
        "colab": {
          "base_uri": "https://localhost:8080/"
        },
        "outputId": "4bfa1d73-f8f2-4465-94a1-c3d5bbcd2336"
      },
      "source": [
        "!ls"
      ],
      "execution_count": 1,
      "outputs": [
        {
          "output_type": "stream",
          "name": "stdout",
          "text": [
            "allbut.pl    u1.base  u3.base  u5.base\tub.base  u.info\n",
            "mku.sh\t     u1.test  u3.test  u5.test\tub.test  u.item\n",
            "README\t     u2.base  u4.base  ua.base\tu.data\t u.occupation\n",
            "sample_data  u2.test  u4.test  ua.test\tu.genre  u.user\n"
          ]
        }
      ]
    },
    {
      "cell_type": "code",
      "metadata": {
        "id": "8bd0rprXA8K0"
      },
      "source": [
        "import torch\n",
        "import pandas as pd\n",
        "import torch.nn.functional as F\n",
        "import matplotlib.pyplot as plt"
      ],
      "execution_count": 3,
      "outputs": []
    },
    {
      "cell_type": "code",
      "metadata": {
        "id": "BXsxlEfSBmYr"
      },
      "source": [
        "#ua.base -> train data\n",
        "#ua.test -> test data\n",
        "train =  pd.read_csv(\"ua.base\", sep=\"\\t\", names =['user','movie','rating','timestamp'])\n",
        "test = pd.read_csv(\"ua.test\", sep=\"\\t\", names = ['user','movie','rating','timestamp'])"
      ],
      "execution_count": 6,
      "outputs": []
    },
    {
      "cell_type": "code",
      "metadata": {
        "id": "8QKjX4QlCCzL"
      },
      "source": [
        "items = torch.LongTensor(train['movie'])\n",
        "users = torch.LongTensor(train['user'])\n",
        "ratings = torch.FloatTensor(train['rating'])\n",
        "items_test = torch.LongTensor(test['movie'])\n",
        "users_test = torch.LongTensor(test['user'])\n",
        "ratings_test = torch.FloatTensor(test['rating'])\n"
      ],
      "execution_count": 7,
      "outputs": []
    },
    {
      "cell_type": "code",
      "metadata": {
        "id": "F74TAoJf8IHV",
        "colab": {
          "base_uri": "https://localhost:8080/"
        },
        "outputId": "4b81bb03-3c1b-4709-a6bb-fbdb35c3bc75"
      },
      "source": [
        "ratings_test"
      ],
      "execution_count": 8,
      "outputs": [
        {
          "output_type": "execute_result",
          "data": {
            "text/plain": [
              "tensor([4., 4., 4.,  ..., 1., 4., 2.])"
            ]
          },
          "metadata": {},
          "execution_count": 8
        }
      ]
    },
    {
      "cell_type": "code",
      "metadata": {
        "id": "OPW7obKIy16J"
      },
      "source": [
        "rank = 50 # vector 차원\n",
        "numItems = items.max() + 1 #사용자 수\n",
        "numUsers = users.max() + 1 #아이템 수\n",
        "P = torch.randn(numItems, rank, requires_grad=True) #아이템 매트릭스\n",
        "Q = torch.randn(numUsers, rank, requires_grad=True) #사용자 매트릭스"
      ],
      "execution_count": 21,
      "outputs": []
    },
    {
      "cell_type": "code",
      "metadata": {
        "id": "7bDa_wPO0oyc",
        "colab": {
          "base_uri": "https://localhost:8080/"
        },
        "outputId": "864148d3-ec7a-4807-da52-3c31ffffb5cb"
      },
      "source": [
        "optimizer = torch.optim.Adam([P, Q], lr = 0.1)\n",
        "for epoch in range(1000):\n",
        "  hypothesis = torch.sum(P[items] * Q[users], dim = 1)\n",
        "  cost = F.mse_loss(hypothesis, ratings)\n",
        "\n",
        "  optimizer.zero_grad()\n",
        "  cost.backward()\n",
        "  optimizer.step()\n",
        "\n",
        "  if epoch % 100 == 0:\n",
        "    print(\"epoch: {}, cost: {:.6f}\".format(epoch, cost.item()))\n",
        "  "
      ],
      "execution_count": 12,
      "outputs": [
        {
          "output_type": "stream",
          "name": "stdout",
          "text": [
            "epoch: 0, cost: 62.934055\n",
            "epoch: 100, cost: 0.213502\n",
            "epoch: 200, cost: 0.123270\n",
            "epoch: 300, cost: 0.090182\n",
            "epoch: 400, cost: 0.073135\n",
            "epoch: 500, cost: 0.062866\n",
            "epoch: 600, cost: 0.056109\n",
            "epoch: 700, cost: 0.051288\n",
            "epoch: 800, cost: 0.047696\n",
            "epoch: 900, cost: 0.044961\n"
          ]
        }
      ]
    },
    {
      "cell_type": "code",
      "metadata": {
        "id": "z_dRb_Pz5QKC",
        "colab": {
          "base_uri": "https://localhost:8080/"
        },
        "outputId": "e6701ebd-488d-4a4a-c09c-827c04035d91"
      },
      "source": [
        "print(train)\n",
        "print(torch.sum(P[1] * Q[2]))"
      ],
      "execution_count": 13,
      "outputs": [
        {
          "output_type": "stream",
          "name": "stdout",
          "text": [
            "       user  movie  rating  timestamp\n",
            "0         1      1       5  874965758\n",
            "1         1      2       3  876893171\n",
            "2         1      3       4  878542960\n",
            "3         1      4       3  876893119\n",
            "4         1      5       3  889751712\n",
            "...     ...    ...     ...        ...\n",
            "90565   943   1047       2  875502146\n",
            "90566   943   1074       4  888640250\n",
            "90567   943   1188       3  888640250\n",
            "90568   943   1228       3  888640275\n",
            "90569   943   1330       3  888692465\n",
            "\n",
            "[90570 rows x 4 columns]\n",
            "tensor(4.0333, grad_fn=<SumBackward0>)\n"
          ]
        }
      ]
    },
    {
      "cell_type": "code",
      "metadata": {
        "id": "AE5mvBSZ14VK"
      },
      "source": [
        "x = []\n",
        "y = []\n",
        "optimizer = torch.optim.Adam([P, Q], lr = 0.1)\n",
        "for epoch in range(1000):\n",
        "  hypothesis = torch.sum(P[items] * Q[users], dim = 1)\n",
        "  cost = F.mse_loss(hypothesis, ratings)\n",
        "\n",
        "  optimizer.zero_grad()\n",
        "  cost.backward()\n",
        "  optimizer.step()\n",
        "\n",
        "  x.append(epoch)\n",
        "  y.append(cost)\n",
        "  #if epoch % 100 == 0:\n",
        "    #print(\"epoch: {}, cost: {:.6f}\".format(epoch, cost.item()))\n",
        "  "
      ],
      "execution_count": 22,
      "outputs": []
    },
    {
      "cell_type": "code",
      "metadata": {
        "id": "GzFk9_O_2tvl",
        "colab": {
          "base_uri": "https://localhost:8080/",
          "height": 279
        },
        "outputId": "98919d23-b539-495a-9fd3-664eba51a090"
      },
      "source": [
        "plt.ylabel(\"MSE\")\n",
        "plt.xlabel(\"Epoch\")\n",
        "plt.plot(x,y ,c=\"b\", label = \"Trainging MSE\")\n",
        "plt.legend()\n",
        "plt.show()"
      ],
      "execution_count": 23,
      "outputs": [
        {
          "output_type": "display_data",
          "data": {
            "image/png": "[encoded data removed]",
            "text/plain": [
              "<Figure size 432x288 with 1 Axes>"
            ]
          },
          "metadata": {
            "needs_background": "light"
          }
        }
      ]
    },
    {
      "cell_type": "code",
      "metadata": {
        "id": "vqELsf4X55yg"
      },
      "source": [
        "rank = 50\n",
        "numItems = items.max() + 1\n",
        "numUsers = users.max() + 1\n",
        "P = torch.randn(numItems, rank, requires_grad=True)\n",
        "Q = torch.randn(numUsers, rank, requires_grad=True)\n",
        "\n",
        "x = []\n",
        "y = []\n",
        "y_test = []\n",
        "optimizer = torch.optim.Adam([P, Q], lr = 0.1)\n",
        "for epoch in range(1000):\n",
        "  hypothesis = torch.sum(P[items] * Q[users], dim = 1)\n",
        "  cost = F.mse_loss(hypothesis, ratings)\n",
        "\n",
        "  optimizer.zero_grad()\n",
        "  cost.backward()\n",
        "  optimizer.step()\n",
        "\n",
        "  with torch.no_grad():\n",
        "    hypo_test = torch.sum(P[items_test] * Q[users_test], dim = 1)\n",
        "    cost_test =  F.mse_loss(hypo_test, ratings_test)\n",
        "\n",
        "    x.append(epoch)\n",
        "    y.append(cost)\n",
        "    y_test.append(cost_test.item())\n",
        "  #if epoch % 100 == 0:\n",
        "    #print(\"epoch: {}, cost: {:.6f}\".format(epoch, cost.item()))"
      ],
      "execution_count": 16,
      "outputs": []
    },
    {
      "cell_type": "code",
      "metadata": {
        "id": "j-1kh-br65TE",
        "colab": {
          "base_uri": "https://localhost:8080/",
          "height": 279
        },
        "outputId": "aed21165-28f7-4073-a578-2170199a5801"
      },
      "source": [
        "plt.ylabel(\"MSE\")\n",
        "plt.xlabel(\"Epoch\")\n",
        "plt.plot(x,y ,c=\"b\", label = \"Trainging MSE\")\n",
        "plt.plot(x,y_test ,c=\"y\", label = \"Test MSE\")\n",
        "plt.legend()\n",
        "plt.show()"
      ],
      "execution_count": 17,
      "outputs": [
        {
          "output_type": "display_data",
          "data": {
            "image/png": "[encoded data removed]",
            "text/plain": [
              "<Figure size 432x288 with 1 Axes>"
            ]
          },
          "metadata": {
            "needs_background": "light"
          }
        }
      ]
    },
    {
      "cell_type": "code",
      "metadata": {
        "id": "yM-UKG54i0_d"
      },
      "source": [
        "#Regularization 추가"
      ],
      "execution_count": 24,
      "outputs": []
    },
    {
      "cell_type": "code",
      "metadata": {
        "id": "xp3cJqkP9pCQ",
        "colab": {
          "base_uri": "https://localhost:8080/",
          "height": 279
        },
        "outputId": "71f809d6-7f50-40c1-ad27-2c783a6df130"
      },
      "source": [
        "rank = 50\n",
        "numItems = items.max() + 1\n",
        "numUsers = users.max() + 1\n",
        "P = torch.randn(numItems, rank, requires_grad=True)\n",
        "Q = torch.randn(numUsers, rank, requires_grad=True)\n",
        "\n",
        "lamda1 = 0.0001\n",
        "lamda2 = 0.0001\n",
        "\n",
        "x = []\n",
        "y = []\n",
        "y_test = []\n",
        "optimizer = torch.optim.Adam([P, Q], lr = 0.1)\n",
        "for epoch in range(1000):\n",
        "  hypothesis = torch.sum(P[items] * Q[users], dim = 1)\n",
        "  cost = F.mse_loss(hypothesis, ratings)\n",
        "  loss = cost + lamda1 * torch.sum(P**2) + lamda2 * torch.sum(Q**2)\n",
        "\n",
        "  optimizer.zero_grad()\n",
        "  loss.backward()\n",
        "  optimizer.step()\n",
        "\n",
        "  with torch.no_grad():\n",
        "    hypo_test = torch.sum(P[items_test] * Q[users_test], dim = 1)\n",
        "    cost_test =  F.mse_loss(hypo_test, ratings_test)\n",
        "\n",
        "    x.append(epoch)\n",
        "    y.append(cost)\n",
        "    y_test.append(cost_test.item())\n",
        "\n",
        "plt.ylabel(\"MSE\")\n",
        "plt.xlabel(\"Epoch\")\n",
        "plt.plot(x,y ,c=\"b\", label = \"Trainging MSE\")\n",
        "plt.plot(x,y_test ,c=\"r\", label = \"Test MSE\")\n",
        "plt.legend()\n",
        "plt.show()"
      ],
      "execution_count": 18,
      "outputs": [
        {
          "output_type": "display_data",
          "data": {
            "image/png": "[encoded data removed]",
            "text/plain": [
              "<Figure size 432x288 with 1 Axes>"
            ]
          },
          "metadata": {
            "needs_background": "light"
          }
        }
      ]
    },
    {
      "cell_type": "code",
      "metadata": {
        "id": "AOTtWcw5i8Dy"
      },
      "source": [
        "#bias 추가"
      ],
      "execution_count": 25,
      "outputs": []
    },
    {
      "cell_type": "code",
      "metadata": {
        "id": "cHAffro5_kTp",
        "colab": {
          "base_uri": "https://localhost:8080/",
          "height": 459
        },
        "outputId": "54eeb09f-91fc-4ab5-9184-b527483db090"
      },
      "source": [
        "rank = 100\n",
        "numItems = items.max() + 1\n",
        "numUsers = users.max() + 1\n",
        "P = torch.randn(numItems, rank, requires_grad=True)\n",
        "Q = torch.randn(numUsers, rank, requires_grad=True)\n",
        "\n",
        "lamda1 = 0.0001\n",
        "lamda2 = 0.0001\n",
        "lamda3 = 0.001\n",
        "lamda4 = 0.001\n",
        "\n",
        "bias_item = torch.randn(numItems, requires_grad=True)\n",
        "bias_user = torch.randn(numUsers, requires_grad=True)\n",
        "mean = (ratings.sum() / len(ratings)).item()\n",
        "\n",
        "x = []\n",
        "y = []\n",
        "y_test = []\n",
        "optimizer = torch.optim.Adam([P, Q], lr = 0.1)\n",
        "for epoch in range(1000):\n",
        "  hypothesis = torch.sum(P[items] * Q[users], dim = 1) + \\\n",
        "    mean + bias_item[items] + bias_user[users]\n",
        "  cost = F.mse_loss(hypothesis, ratings)\n",
        "  loss = cost + lamda1 * torch.sum(P**2) + lamda2 * torch.sum(Q**2) + \\\n",
        "    lamda3 + torch.sum(bias_item ** 2) + torch.sum(bias_user ** 2)\n",
        "\n",
        "  optimizer.zero_grad()\n",
        "  loss.backward()\n",
        "  optimizer.step()\n",
        "\n",
        "  with torch.no_grad():\n",
        "    hypo_test = torch.sum(P[items_test] * Q[users_test], dim = 1)+ \\\n",
        "     mean + bias_item[items_test] + bias_user[users_test]\n",
        "    cost_test =  F.mse_loss(hypo_test, ratings_test)\n",
        "\n",
        "    x.append(epoch)\n",
        "    y.append(cost)\n",
        "    y_test.append(cost_test.item())\n",
        "  if epoch % 100 == 0:\n",
        "    print(\"epoch: {}, cost: {:.6f}\".format(epoch, cost.item()))\n",
        "\n",
        "plt.ylabel(\"MSE\")\n",
        "plt.xlabel(\"Epoch\")\n",
        "plt.plot(x,y ,c=\"b\", label = \"Trainging MSE\")\n",
        "plt.plot(x,y_test ,c=\"r\", label = \"Test MSE\")\n",
        "plt.legend()\n",
        "plt.show()"
      ],
      "execution_count": 20,
      "outputs": [
        {
          "output_type": "stream",
          "name": "stdout",
          "text": [
            "epoch: 0, cost: 104.809227\n",
            "epoch: 100, cost: 0.321648\n",
            "epoch: 200, cost: 0.295836\n",
            "epoch: 300, cost: 0.289185\n",
            "epoch: 400, cost: 0.286912\n",
            "epoch: 500, cost: 0.286010\n",
            "epoch: 600, cost: 0.285585\n",
            "epoch: 700, cost: 0.285353\n",
            "epoch: 800, cost: 0.285214\n",
            "epoch: 900, cost: 0.285126\n"
          ]
        },
        {
          "output_type": "display_data",
          "data": {
            "image/png": "[encoded data removed]",
            "text/plain": [
              "<Figure size 432x288 with 1 Axes>"
            ]
          },
          "metadata": {
            "needs_background": "light"
          }
        }
      ]
    },
    {
      "cell_type": "code",
      "metadata": {
        "id": "-58WQC_9BomJ"
      },
      "source": [
        ""
      ],
      "execution_count": null,
      "outputs": []
    }
  ]
}